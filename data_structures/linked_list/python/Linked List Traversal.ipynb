{
 "cells": [
  {
   "cell_type": "code",
   "execution_count": 2,
   "metadata": {},
   "outputs": [
    {
     "name": "stdout",
     "output_type": "stream",
     "text": [
      "1\n",
      "2\n",
      "3\n"
     ]
    }
   ],
   "source": [
    "# A simple Python program for traversal of a linked list \n",
    "  \n",
    "# Node class \n",
    "class Node: \n",
    "  \n",
    "    # Function to initialise the node object \n",
    "    def __init__(self, data): \n",
    "        self.data = data  # Assign data \n",
    "        self.next = None  # Initialize next as null \n",
    "  \n",
    "  \n",
    "# Linked List class contains a Node object \n",
    "class LinkedList: \n",
    "  \n",
    "    # Function to initialize head \n",
    "    def __init__(self): \n",
    "        self.head = None\n",
    "  \n",
    "    # This function prints contents of linked list \n",
    "    # starting from head \n",
    "    def printList(self): \n",
    "        temp = self.head \n",
    "        while (temp): \n",
    "            print(temp.data) \n",
    "            temp = temp.next\n",
    "  \n",
    "  \n",
    "# Code execution starts here \n",
    "if __name__=='__main__': \n",
    "  \n",
    "    # Start with the empty list \n",
    "    llist = LinkedList() \n",
    "  \n",
    "    llist.head = Node(1) \n",
    "    second = Node(2) \n",
    "    third = Node(3) \n",
    "  \n",
    "    llist.head.next = second; # Link first node with second \n",
    "    second.next = third; # Link second node with the third node \n",
    "  \n",
    "    llist.printList() "
   ]
  },
  {
   "cell_type": "code",
   "execution_count": null,
   "metadata": {},
   "outputs": [],
   "source": []
  }
 ],
 "metadata": {
  "kernelspec": {
   "display_name": "Python 3",
   "language": "python",
   "name": "python3"
  },
  "language_info": {
   "codemirror_mode": {
    "name": "ipython",
    "version": 3
   },
   "file_extension": ".py",
   "mimetype": "text/x-python",
   "name": "python",
   "nbconvert_exporter": "python",
   "pygments_lexer": "ipython3",
   "version": "3.6.8"
  }
 },
 "nbformat": 4,
 "nbformat_minor": 2
}
