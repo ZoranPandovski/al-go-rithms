{
  "nbformat": 4,
  "nbformat_minor": 2,
  "metadata": {
    "colab": {
      "name": "Copy of Core Learning Algorithms.ipynb",
      "provenance": [],
      "collapsed_sections": [
        "sIBZww6kOIAp",
        "UQlXWErlbhsG"
      ]
    },
    "kernelspec": {
      "name": "python3",
      "display_name": "Python 3"
    }
  },
  "cells": [
    {
      "cell_type": "markdown",
      "source": [
        "##Hidden Markov Models\r\n",
        "\r\n",
        "\"The Hidden Markov Model is a finite set of states, each of which is associated with a (generally multidimensional) probability distribution []. Transitions among the states are governed by a set of probabilities called transition probabilities.\" (http://jedlik.phy.bme.hu/~gerjanos/HMM/node4.html)\r\n",
        "\r\n",
        "A hidden markov model works with probabilities to predict future events or states. In this section we will learn how to create a hidden markov model that can predict the weather.\r\n"
      ],
      "metadata": {
        "id": "sQ9iJrSbBTZB"
      }
    },
    {
      "cell_type": "markdown",
      "source": [
        "###Data\r\n",
        "\r\n",
        "\r\n",
        "**States:** In each markov model we have a finite set of states. These states could be something like \"warm\" and \"cold\" or \"high\" and \"low\" or even \"red\", \"green\" and \"blue\". These states are \"hidden\" within the model, which means we do not direcly observe them.\r\n",
        "\r\n",
        "**Observations:** Each state has a particular outcome or observation associated with it based on a probability distribution. An example of this is the following: *On a hot day Tim has a 80% chance of being happy and a 20% chance of being sad.*\r\n",
        "\r\n",
        "**Transitions:** Each state will have a probability defining the likelyhood of transitioning to a different state. An example is the following: *a cold day has a 30% chance of being followed by a hot day and a 70% chance of being follwed by another cold day.*\r\n"
      ],
      "metadata": {
        "id": "RKJSFk4NP0eq"
      }
    },
    {
      "cell_type": "code",
      "execution_count": null,
      "source": [
        "import tensorflow_probability as tfp  # We are using a different module from tensorflow this time\r\n",
        "import tensorflow as tf"
      ],
      "outputs": [],
      "metadata": {
        "id": "mEIk7FYD6lcF"
      }
    },
    {
      "cell_type": "markdown",
      "source": [
        "###Weather Model\r\n",
        "Taken direclty from the TensorFlow documentation (https://www.tensorflow.org/probability/api_docs/python/tfp/distributions/HiddenMarkovModel). \r\n",
        "\r\n",
        "We will model a simple weather system and try to predict the temperature on each day given the following information.\r\n",
        "1. Cold days are encoded by a 0 and hot days are encoded by a 1.\r\n",
        "2. The first day in our sequence has an 80% chance of being cold.\r\n",
        "3. A cold day has a 30% chance of being followed by a hot day.\r\n",
        "4. A hot day has a 20% chance of being followed by a cold day.\r\n",
        "5. On each day the temperature is\r\n",
        " normally distributed with mean and standard deviation 0 and 5 on\r\n",
        " a cold day and mean and standard deviation 15 and 10 on a hot day.\r\n",
        "\r\n",
        "\r\n"
      ],
      "metadata": {
        "id": "ssOcn-nIOCcV"
      }
    },
    {
      "cell_type": "code",
      "execution_count": null,
      "source": [
        "tfd = tfp.distributions  # making a shortcut for later on\r\n",
        "initial_distribution = tfd.Categorical(probs=[0.2, 0.8])  # Refer to point 2 above\r\n",
        "transition_distribution = tfd.Categorical(probs=[[0.5, 0.5],\r\n",
        "                                                 [0.2, 0.8]])  # refer to points 3 and 4 above\r\n",
        "observation_distribution = tfd.Normal(loc=[0., 15.], scale=[5., 10.])  # refer to point 5 above\r\n",
        "\r\n",
        "# the loc argument represents the mean and the scale is the standard devitation"
      ],
      "outputs": [],
      "metadata": {
        "id": "4LBLEJp4YlIf"
      }
    },
    {
      "cell_type": "code",
      "execution_count": null,
      "source": [
        "model = tfd.HiddenMarkovModel(\r\n",
        "    initial_distribution=initial_distribution,\r\n",
        "    transition_distribution=transition_distribution,\r\n",
        "    observation_distribution=observation_distribution,\r\n",
        "    num_steps=7)"
      ],
      "outputs": [],
      "metadata": {
        "id": "P4M6cZww4mZk"
      }
    },
    {
      "cell_type": "markdown",
      "source": [
        "The number of steps represents the number of days that we would like to predict information for. In this case we've chosen 7, an entire week.\r\n",
        "\r\n",
        " **expected temperatures** :"
      ],
      "metadata": {
        "id": "DJ0XIA2M5gqD"
      }
    },
    {
      "cell_type": "code",
      "execution_count": null,
      "source": [
        "mean = model.mean()\r\n",
        "\r\n",
        "# due to the way TensorFlow works on a lower level we need to evaluate part of the graph\r\n",
        "# from within a session to see the value of this tensor\r\n",
        "\r\n",
        "# in the new version of tensorflow we need to use tf.compat.v1.Session() rather than just tf.Session()\r\n",
        "with tf.compat.v1.Session() as sess:  \r\n",
        "  print(mean.numpy())"
      ],
      "outputs": [
        {
          "output_type": "stream",
          "name": "stdout",
          "text": [
            "[12.       11.1      10.83     10.748999 10.724699 10.71741  10.715222]\n"
          ]
        }
      ],
      "metadata": {
        "id": "plVVG4fi55Jv",
        "colab": {
          "base_uri": "https://localhost:8080/",
          "height": 34
        },
        "outputId": "cef2d0a3-0edf-4226-ad65-43245933109f"
      }
    }
  ]
}